{
  "nbformat": 4,
  "nbformat_minor": 0,
  "metadata": {
    "colab": {
      "provenance": []
    },
    "kernelspec": {
      "name": "python3",
      "display_name": "Python 3"
    },
    "language_info": {
      "name": "python"
    }
  },
  "cells": [
    {
      "cell_type": "markdown",
      "source": [
        "Restful API & Flask"
      ],
      "metadata": {
        "id": "Qc-3d_m6MD14"
      }
    },
    {
      "cell_type": "markdown",
      "source": [
        "1. What is a RESTful API?\n",
        "A RESTful API (Representational State Transfer) is a web service that follows REST principles. It allows clients to perform operations like GET, POST, PUT, DELETE on resources using standard HTTP methods.\n",
        "\n",
        "2. Explain the concept of API specification.\n",
        "An API specification is a formal document that defines how an API behaves. It outlines endpoints, request/response formats, authentication, and status codes. Tools like OpenAPI help create API specs.\n",
        "\n",
        "3. What is Flask, and why is it popular for building APIs?\n",
        "Flask is a lightweight Python web framework. It's popular for APIs because it's:\n",
        "\n",
        "Simple and easy to use\n",
        "\n",
        "Highly customizable\n",
        "\n",
        "Has a large ecosystem (e.g., Flask-RESTful, Flask-SQLAlchemy)\n",
        "\n",
        "4. What is routing in Flask?\n",
        "Routing in Flask maps URLs to Python functions. When a user visits a URL, Flask runs the function assigned to that route.\n",
        "\n",
        "5. How do you create a simple Flask application?\n",
        "python\n",
        "Copy\n",
        "Edit\n",
        "from flask import Flask\n",
        "app = Flask(__name__)\n",
        "\n",
        "@app.route('/')\n",
        "def home():\n",
        "    return \"Hello, Flask!\"\n",
        "\n",
        "if __name__ == '__main__':\n",
        "    app.run(debug=True)\n",
        "6. What are HTTP methods used in RESTful APIs?\n",
        "GET – Retrieve data\n",
        "\n",
        "POST – Create new data\n",
        "\n",
        "PUT – Update existing data\n",
        "\n",
        "DELETE – Remove data\n",
        "\n",
        "PATCH – Partial update\n",
        "\n",
        "7. What is the purpose of the @app.route() decorator in Flask?\n",
        "It links a URL path to a function, defining how your application responds to different HTTP requests.\n",
        "\n",
        "8. What is the difference between GET and POST HTTP methods?\n",
        "GET: Retrieves data from the server. Parameters go in the URL.\n",
        "\n",
        "POST: Sends data to the server, usually to create a resource. Parameters go in the body.\n",
        "\n",
        "9. How do you handle errors in Flask APIs?\n",
        "Use error handlers:\n",
        "\n",
        "python\n",
        "Copy\n",
        "Edit\n",
        "@app.errorhandler(404)\n",
        "def not_found(e):\n",
        "    return {\"error\": \"Not found\"}, 404\n",
        "10. How do you connect Flask to a SQL database?\n",
        "Using Flask-SQLAlchemy:\n",
        "\n",
        "python\n",
        "Copy\n",
        "Edit\n",
        "from flask_sqlalchemy import SQLAlchemy\n",
        "\n",
        "app.config['SQLALCHEMY_DATABASE_URI'] = 'sqlite:///mydb.db'\n",
        "db = SQLAlchemy(app)\n",
        "11. What is the role of Flask-SQLAlchemy?\n",
        "It integrates SQLAlchemy ORM with Flask, making it easier to interact with databases using Python classes.\n",
        "\n",
        "12. What are Flask blueprints, and how are they useful?\n",
        "Blueprints help organize routes and logic into reusable components, especially for large apps:\n",
        "\n",
        "python\n",
        "Copy\n",
        "Edit\n",
        "from flask import Blueprint\n",
        "bp = Blueprint('users', __name__)\n",
        "@bp.route('/users')\n",
        "def get_users():\n",
        "    return \"User list\"\n",
        "13. What is the purpose of Flask's request object?\n",
        "It gives access to incoming request data like form inputs, JSON, headers, and methods.\n",
        "\n",
        "14. How do you create a RESTful API endpoint using Flask?\n",
        "python\n",
        "Copy\n",
        "Edit\n",
        "@app.route('/api/item/<int:id>', methods=['GET'])\n",
        "def get_item(id):\n",
        "    return {\"item_id\": id}\n",
        "15. What is the purpose of Flask's jsonify() function?\n",
        "It converts Python dictionaries to JSON responses with correct headers.\n",
        "\n",
        "16. Explain Flask’s url_for() function.\n",
        "Generates a URL for a given function name. Useful for dynamic routing:\n",
        "\n",
        "python\n",
        "Copy\n",
        "Edit\n",
        "url_for('home')  # returns '/'\n",
        "17. How does Flask handle static files (CSS, JavaScript, etc.)?\n",
        "Flask automatically serves files in the static/ directory. Access them via /static/filename.\n",
        "\n",
        "18. What is an API specification, and how does it help in building a Flask API?\n",
        "It defines the structure of your API and ensures consistency across development, documentation, and testing.\n",
        "\n",
        "19. What are HTTP status codes, and why are they important in a Flask API?\n",
        "Status codes indicate the result of an HTTP request (e.g., 200 OK, 404 Not Found). They help clients understand the response.\n",
        "\n",
        "20. How do you handle POST requests in Flask?\n",
        "python\n",
        "Copy\n",
        "Edit\n",
        "@app.route('/submit', methods=['POST'])\n",
        "def submit():\n",
        "    data = request.json\n",
        "    return jsonify(data), 201\n",
        "21. How would you secure a Flask API?\n",
        "Use HTTPS\n",
        "\n",
        "Validate and sanitize inputs\n",
        "\n",
        "Use authentication (e.g., JWT)\n",
        "\n",
        "Implement rate limiting\n",
        "\n",
        "Protect against CSRF and CORS issues\n",
        "\n",
        "22. What is the significance of the Flask-RESTful extension?\n",
        "It simplifies building RESTful APIs by adding features like:\n",
        "\n",
        "Resource classes\n",
        "\n",
        "Request parsing\n",
        "\n",
        "Error handling\n",
        "\n",
        "23. What is the role of Flask’s session object?\n",
        "It stores data (like login info) between requests using cookies. Useful for managing user sessions.\n"
      ],
      "metadata": {
        "id": "wp8YIKGyMhE8"
      }
    },
    {
      "cell_type": "code",
      "source": [
        "# 1. How do you create a basic Flask application?\n",
        "from flask import Flask\n",
        "\n",
        "app = Flask(__name__)\n",
        "\n",
        "@app.route('/')\n",
        "def home():\n",
        "    return \"Hello, Flask!\""
      ],
      "metadata": {
        "id": "d0R_zfWjOSjC"
      },
      "execution_count": 2,
      "outputs": []
    },
    {
      "cell_type": "code",
      "source": [
        "# 2. How do you serve static files like images or CSS in Flask?\n",
        "from flask import Flask, send_from_directory\n",
        "\n",
        "app = Flask(__name__)\n",
        "\n",
        "@app.route('/static/<path:filename>')\n",
        "def serve_static(filename):\n",
        "    return send_from_directory('static', filename)"
      ],
      "metadata": {
        "id": "BFnx8NC4OqTs"
      },
      "execution_count": 3,
      "outputs": []
    },
    {
      "cell_type": "code",
      "source": [
        "# 3. How do you define different routes with different HTTP methods in Flask?\n",
        "from flask import Flask, request\n",
        "\n",
        "app = Flask(__name__)\n",
        "\n",
        "@app.route('/get', methods=['GET'])\n",
        "def get_data():\n",
        "    return \"This is a GET request\""
      ],
      "metadata": {
        "id": "rYjgAfLuO2lR"
      },
      "execution_count": 4,
      "outputs": []
    },
    {
      "cell_type": "code",
      "source": [
        "# 4. How do you render HTML templates in Flask?\n",
        "from flask import Flask, render_template\n",
        "\n",
        "app = Flask(__name__)\n",
        "\n",
        "@app.route('/')\n",
        "def home():\n",
        "    return render_template('index.html')"
      ],
      "metadata": {
        "id": "w3wjoObSPFJr"
      },
      "execution_count": 5,
      "outputs": []
    },
    {
      "cell_type": "code",
      "source": [
        "#  5. How can you generate URLs for routes in Flask using url_for()?\n",
        "from flask import Flask, url_for\n",
        "\n",
        "app = Flask(__name__)\n",
        "\n",
        "@app.route('/')\n",
        "def home():\n",
        "    return url_for('home')"
      ],
      "metadata": {
        "id": "VrWnxgDJPQ1O"
      },
      "execution_count": 6,
      "outputs": []
    },
    {
      "cell_type": "code",
      "source": [
        "# 6. How do you handle forms in Flask?\n",
        "from flask import Flask, request\n",
        "\n",
        "app = Flask(__name__)\n",
        "\n",
        "@app.route('/submit', methods=['POST'])\n",
        "def submit():\n",
        "    data = request.form.get('name')\n",
        "    return f\"Hello, {data}!\"\n"
      ],
      "metadata": {
        "id": "orIZN7BOPeDf"
      },
      "execution_count": 7,
      "outputs": []
    },
    {
      "cell_type": "code",
      "source": [
        "# 7. How can you validate form data in Flask?\n",
        "from flask import Flask, request\n",
        "\n",
        "app = Flask(__name__)\n",
        "\n",
        "@app.route('/submit', methods=['POST'])\n",
        "def submit():\n",
        "    name = request.form.get('name')\n",
        "    if not name:\n",
        "        return \"Name is required\""
      ],
      "metadata": {
        "id": "8-kdg8k0Pm2C"
      },
      "execution_count": 8,
      "outputs": []
    },
    {
      "cell_type": "code",
      "source": [
        "# 8. How do you manage sessions in Flask?\n",
        "from flask import Flask, session\n",
        "\n",
        "app = Flask(__name__)\n",
        "app.secret_key = 'your_secret_key'\n",
        "\n",
        "@app.route('/login')\n",
        "def login():\n",
        "    session['user'] = 'John'\n",
        "    return \"Logged in\""
      ],
      "metadata": {
        "id": "HX8FdhXAPwE_"
      },
      "execution_count": 9,
      "outputs": []
    },
    {
      "cell_type": "code",
      "source": [
        "# 9. How do you redirect to a different route in Flask?\n",
        "from flask import Flask, redirect, url_for\n",
        "\n",
        "app = Flask(__name__)\n",
        "\n",
        "@app.route('/redirect')\n",
        "def redirect_to_home():\n",
        "    return redirect(url_for('home'))"
      ],
      "metadata": {
        "id": "72MNIN0KP4DF"
      },
      "execution_count": 10,
      "outputs": []
    },
    {
      "cell_type": "code",
      "source": [
        "# 10. How do you handle errors in Flask (e.g., 404)?\n",
        "from flask import Flask, jsonify\n",
        "\n",
        "app = Flask(__name__)\n",
        "\n",
        "@app.errorhandler(404)\n",
        "def not_found(e):\n",
        "    return jsonify(error=str(e)), 404"
      ],
      "metadata": {
        "id": "gdK_eZ-7QAqE"
      },
      "execution_count": 11,
      "outputs": []
    },
    {
      "cell_type": "code",
      "source": [
        "# 11. How do you structure a Flask app using Blueprints?\n",
        "from flask import Blueprint\n",
        "\n",
        "bp = Blueprint('users', __name__)\n",
        "\n",
        "@bp.route('/users')\n",
        "def get_users():\n",
        "    return \"User list\""
      ],
      "metadata": {
        "id": "T566a2S8QHyF"
      },
      "execution_count": 12,
      "outputs": []
    },
    {
      "cell_type": "code",
      "source": [
        "# 12. How do you define a custom Jinja filter in Flask?\n",
        "from flask import Flask\n",
        "\n",
        "app = Flask(__name__)\n",
        "\n",
        "@app.template_filter('custom_filter')\n",
        "def custom_filter(value):\n",
        "    return value.upper()"
      ],
      "metadata": {
        "id": "qCubmWViQQjp"
      },
      "execution_count": 13,
      "outputs": []
    },
    {
      "cell_type": "code",
      "source": [
        "# 13. How can you redirect with query parameters in Flask?\n",
        "from flask import Flask, redirect, url_for\n",
        "\n",
        "app = Flask(__name__)\n",
        "\n",
        "@app.route('/redirect')\n",
        "def redirect_with_query():\n",
        "    return redirect(url_for('home', name='John'))"
      ],
      "metadata": {
        "id": "QmIK5a_GQa7W"
      },
      "execution_count": 14,
      "outputs": []
    },
    {
      "cell_type": "code",
      "source": [
        "# 14. How do you return JSON responses in Flask?\n",
        "from flask import Flask, jsonify\n",
        "\n",
        "app = Flask(__name__)\n",
        "\n",
        "@app.route('/json')\n",
        "def json_response():\n",
        "    data = {'message': 'Hello, JSON!'}\n",
        "    return jsonify(data)\n"
      ],
      "metadata": {
        "id": "z9i9-myjQiZa"
      },
      "execution_count": 15,
      "outputs": []
    },
    {
      "cell_type": "code",
      "source": [
        "# 15. How do you capture URL parameters in Flask?\n",
        "from flask import Flask, request\n",
        "\n",
        "app = Flask(__name__)\n",
        "\n",
        "@app.route('/user/<username>')\n",
        "def user_profile(username):\n",
        "    return f\"Hello, {username}!\""
      ],
      "metadata": {
        "id": "mLCeX5AUQreS"
      },
      "execution_count": 16,
      "outputs": []
    }
  ]
}